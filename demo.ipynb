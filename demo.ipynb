{
 "cells": [
  {
   "cell_type": "code",
   "execution_count": 1,
   "metadata": {},
   "outputs": [],
   "source": [
    "import numpy as np\n",
    "import cv2\n",
    "import time\n",
    "import glob\n",
    "\n",
    "from sklearn import svm\n",
    "from sklearn.preprocessing import StandardScaler\n",
    "from sklearn.pipeline import make_pipeline\n",
    "\n",
    "import dv\n",
    "\n",
    "from joblib import dump, load"
   ]
  },
  {
   "cell_type": "code",
   "execution_count": 2,
   "metadata": {},
   "outputs": [],
   "source": [
    "def loadLabel(path):\n",
    "    labels = np.genfromtxt(path, delimiter=',', skip_header=1, dtype=int)\n",
    "\n",
    "    start_time = labels[0][1]\n",
    "    for i in labels:\n",
    "        i[1] = i[1]-start_time\n",
    "        i[2] = i[2]-start_time\n",
    "        \n",
    "    return labels"
   ]
  },
  {
   "cell_type": "code",
   "execution_count": 3,
   "metadata": {},
   "outputs": [],
   "source": [
    "# Return the start time of the given class index.\n",
    "def start(index, labels):\n",
    "    return labels[index][1]\n",
    " \n",
    "# Return the end time of the given class index.\n",
    "def end(index, labels):\n",
    "    return labels[index][2]\n",
    "\n",
    "def classID(index, labels):\n",
    "    return labels[index][0]-1\n",
    "\n",
    "# Return the class of the current frame. If no gesture then return -1.\n",
    "def setGesture(currentTime, labels):\n",
    "    for i in range(len(labels)-1):\n",
    "        if (currentTime >= start(i, labels) and currentTime <= end(i, labels)):\n",
    "            return classID(i, labels)\n",
    "    return -1"
   ]
  },
  {
   "cell_type": "code",
   "execution_count": 4,
   "metadata": {},
   "outputs": [],
   "source": [
    "def verify(csv, file):\n",
    "    \n",
    "    csv = csv.split(\"_labels\")\n",
    "    file = file.split(\".\")\n",
    "    \n",
    "    if (csv[0] != file[0]):\n",
    "        print(\"mismatch: (%s, %s)\" % (csv[0], file[0]))"
   ]
  },
  {
   "cell_type": "code",
   "execution_count": 5,
   "metadata": {},
   "outputs": [],
   "source": [
    "csv = sorted(glob.glob(\"data/*.csv\"))\n",
    "aedat4 = sorted(glob.glob(\"data/*.aedat4\"))"
   ]
  },
  {
   "cell_type": "code",
   "execution_count": 6,
   "metadata": {},
   "outputs": [],
   "source": [
    "pipeline = load('pipeline.joblib')"
   ]
  },
  {
   "cell_type": "code",
   "execution_count": 7,
   "metadata": {},
   "outputs": [],
   "source": [
    "def process(X, Y, path, labels):\n",
    "    offset = 0\n",
    "    \n",
    "    with dv.AedatFile(path) as f: \n",
    "        for frame in f['frames']:    \n",
    "            # Set the offset on the first frame.\n",
    "            if (offset == 0):\n",
    "                offset = frame.timestamp\n",
    "\n",
    "            gesture = setGesture((frame.timestamp - offset), labels)\n",
    "            image = frame.image\n",
    "\n",
    "            # font\n",
    "            font = cv2.FONT_HERSHEY_SIMPLEX\n",
    "\n",
    "            # org\n",
    "            org = (5, 30)\n",
    "\n",
    "            # fontScale\n",
    "            fontScale = 1\n",
    "\n",
    "            # Blue color in BGR\n",
    "            color = (255, 0, 0)\n",
    "\n",
    "            # Line thickness of 2 px\n",
    "            thickness = 2\n",
    "            image = cv2.putText(image, str(gesture), org, font, \n",
    "                       fontScale, color, thickness, cv2.LINE_AA)\n",
    "            \n",
    "            # cv2.imshow('out',image)\n",
    "            # cv2.waitKey(1)\n",
    "\n",
    "            if (gesture == -1):\n",
    "                continue\n",
    "            else:\n",
    "                Y.append(gesture)\n",
    "\n",
    "                # TODO: Scale the data.\n",
    "                matrix = frame.image.flatten()\n",
    "                X.append(matrix)"
   ]
  },
  {
   "cell_type": "code",
   "execution_count": 8,
   "metadata": {},
   "outputs": [
    {
     "name": "stdout",
     "output_type": "stream",
     "text": [
      "data\\user28_lab_labels.csv data\\user28_lab.aedat4\n"
     ]
    }
   ],
   "source": [
    "sample = 114\n",
    "X_test = []\n",
    "Y_test = []\n",
    "\n",
    "verify(csv[sample], aedat4[sample])\n",
    "print(csv[sample], aedat4[sample])\n",
    "\n",
    "labels = loadLabel(csv[sample])\n",
    "process(X_test, Y_test, aedat4[sample], labels)"
   ]
  },
  {
   "cell_type": "markdown",
   "metadata": {},
   "source": [
    "pipeline.score(X_test, Y_test)"
   ]
  },
  {
   "cell_type": "code",
   "execution_count": 9,
   "metadata": {},
   "outputs": [
    {
     "name": "stdout",
     "output_type": "stream",
     "text": [
      "51.57305669784546\n",
      "1.031461133956909\n"
     ]
    }
   ],
   "source": [
    "n=50\n",
    "\n",
    "start_time = time.time()\n",
    "for i in range(n):\n",
    "    pipeline.predict(X_test[i].reshape(1,-1))[0]\n",
    "\n",
    "print(time.time()-start_time)\n",
    "print((time.time()-start_time)/n)"
   ]
  },
  {
   "cell_type": "code",
   "execution_count": 10,
   "metadata": {},
   "outputs": [],
   "source": [
    "def viewer(path, labels):\n",
    "    offset = 0\n",
    "    \n",
    "    with dv.AedatFile(path) as f: \n",
    "        for frame in f['frames']:    \n",
    "            # Set the offset on the first frame.\n",
    "            if (offset == 0):\n",
    "                offset = frame.timestamp\n",
    "\n",
    "            gesture = setGesture((frame.timestamp - offset), labels)\n",
    "            image = frame.image\n",
    "\n",
    "            # font\n",
    "            font = cv2.FONT_HERSHEY_SIMPLEX\n",
    "\n",
    "            # org\n",
    "            org = (5, 30)\n",
    "\n",
    "            # fontScale\n",
    "            fontScale = 1\n",
    "\n",
    "            # Blue color in BGR\n",
    "            color = (255, 0, 0)\n",
    "\n",
    "            # Line thickness of 2 px\n",
    "            thickness = 2\n",
    "            image = cv2.putText(image, str(gesture), org, font, \n",
    "                       fontScale, color, thickness, cv2.LINE_AA)\n",
    "\n",
    "            matrix = frame.image.flatten()\n",
    "            predicted = pipeline.predict(matrix.reshape(1,-1))[0]\n",
    "            \n",
    "            org = (240, 30)\n",
    "            \n",
    "            if (predicted == gesture):\n",
    "                color = (255, 0, 0)\n",
    "            else:\n",
    "                color = (100, 0, 0)\n",
    "            \n",
    "            image = cv2.putText(image, str(predicted), org, font, \n",
    "                       fontScale, color, thickness, cv2.LINE_AA)\n",
    "                \n",
    "            cv2.imshow('out',image)\n",
    "            cv2.waitKey(1)"
   ]
  },
  {
   "cell_type": "markdown",
   "metadata": {},
   "source": [
    "viewer(aedat4[sample], labels)"
   ]
  }
 ],
 "metadata": {
  "kernelspec": {
   "display_name": "Python 3",
   "language": "python",
   "name": "python3"
  },
  "language_info": {
   "codemirror_mode": {
    "name": "ipython",
    "version": 3
   },
   "file_extension": ".py",
   "mimetype": "text/x-python",
   "name": "python",
   "nbconvert_exporter": "python",
   "pygments_lexer": "ipython3",
   "version": "3.8.5"
  }
 },
 "nbformat": 4,
 "nbformat_minor": 4
}
