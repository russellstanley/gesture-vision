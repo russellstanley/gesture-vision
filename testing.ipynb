{
 "cells": [
  {
   "cell_type": "code",
   "execution_count": 1,
   "metadata": {},
   "outputs": [],
   "source": [
    "import numpy as np\n",
    "import cv2\n",
    "import time\n",
    "import glob\n",
    "\n",
    "from sklearn import svm\n",
    "from sklearn.preprocessing import StandardScaler\n",
    "from sklearn.pipeline import make_pipeline\n",
    "\n",
    "import dv\n",
    "\n",
    "from joblib import dump, load"
   ]
  },
  {
   "cell_type": "code",
   "execution_count": 2,
   "metadata": {},
   "outputs": [],
   "source": [
    "def loadLabel(path):\n",
    "    labels = np.genfromtxt(path, delimiter=',', skip_header=1, dtype=int)\n",
    "\n",
    "    start_time = labels[0][1]\n",
    "    for i in labels:\n",
    "        i[1] = i[1]-start_time\n",
    "        i[2] = i[2]-start_time\n",
    "        \n",
    "    return labels"
   ]
  },
  {
   "cell_type": "code",
   "execution_count": 3,
   "metadata": {},
   "outputs": [],
   "source": [
    "# Return the start time of the given class index.\n",
    "def start(index, labels):\n",
    "    return labels[index][1]\n",
    " \n",
    "# Return the end time of the given class index.\n",
    "def end(index, labels):\n",
    "    return labels[index][2]\n",
    "\n",
    "def classID(index, labels):\n",
    "    return labels[index][0]-1\n",
    "\n",
    "# Return the class of the current frame. If no gesture then return -1.\n",
    "def setGesture(currentTime, labels):\n",
    "    for i in range(len(labels)-1):\n",
    "        if (currentTime >= start(i, labels) and currentTime <= end(i, labels)):\n",
    "            return classID(i, labels)\n",
    "    return -1"
   ]
  },
  {
   "cell_type": "code",
   "execution_count": 4,
   "metadata": {},
   "outputs": [],
   "source": [
    "def process(X, Y, path, labels):\n",
    "    offset = 0\n",
    "    \n",
    "    with dv.AedatFile(path) as f: \n",
    "        for frame in f['frames']:    \n",
    "            # Set the offset on the first frame.\n",
    "            if (offset == 0):\n",
    "                offset = frame.timestamp\n",
    "\n",
    "            gesture = setGesture((frame.timestamp - offset), labels)\n",
    "            image = frame.image\n",
    "\n",
    "            # font\n",
    "            font = cv2.FONT_HERSHEY_SIMPLEX\n",
    "\n",
    "            # org\n",
    "            org = (5, 30)\n",
    "\n",
    "            # fontScale\n",
    "            fontScale = 1\n",
    "\n",
    "            # Blue color in BGR\n",
    "            color = (255, 0, 0)\n",
    "\n",
    "            # Line thickness of 2 px\n",
    "            thickness = 2\n",
    "            image = cv2.putText(image, str(gesture), org, font, \n",
    "                       fontScale, color, thickness, cv2.LINE_AA)\n",
    "            \n",
    "            # cv2.imshow('out',image)\n",
    "            # cv2.waitKey(1)\n",
    "\n",
    "            if (gesture == -1):\n",
    "                continue\n",
    "            else:\n",
    "                Y.append(gesture)\n",
    "\n",
    "                # TODO: Scale the data.\n",
    "                matrix = frame.image.flatten()\n",
    "                X.append(matrix)"
   ]
  },
  {
   "cell_type": "code",
   "execution_count": 5,
   "metadata": {},
   "outputs": [],
   "source": [
    "def verify(csv, file):\n",
    "    \n",
    "    csv = csv.split(\"_labels\")\n",
    "    file = file.split(\".\")\n",
    "    \n",
    "    if (csv[0] != file[0]):\n",
    "        print(\"mismatch: (%s, %s)\" % (csv[0], file[0]))"
   ]
  },
  {
   "cell_type": "code",
   "execution_count": 6,
   "metadata": {},
   "outputs": [
    {
     "name": "stdout",
     "output_type": "stream",
     "text": [
      "data\\user24_fluorescent_labels.csv data\\user24_fluorescent.aedat4\n",
      "data\\user24_fluorescent_led_labels.csv data\\user24_fluorescent_led.aedat4\n",
      "data\\user24_led_labels.csv data\\user24_led.aedat4\n",
      "data\\user25_fluorescent_labels.csv data\\user25_fluorescent.aedat4\n",
      "data\\user25_led_labels.csv data\\user25_led.aedat4\n",
      "data\\user26_fluorescent_labels.csv data\\user26_fluorescent.aedat4\n",
      "data\\user26_fluorescent_led_labels.csv data\\user26_fluorescent_led.aedat4\n",
      "data\\user26_lab_labels.csv data\\user26_lab.aedat4\n",
      "data\\user26_led_labels.csv data\\user26_led.aedat4\n",
      "data\\user26_natural_labels.csv data\\user26_natural.aedat4\n",
      "data\\user27_fluorescent_labels.csv data\\user27_fluorescent.aedat4\n",
      "data\\user27_fluorescent_led_labels.csv data\\user27_fluorescent_led.aedat4\n",
      "data\\user27_led_labels.csv data\\user27_led.aedat4\n",
      "data\\user27_natural_labels.csv data\\user27_natural.aedat4\n",
      "data\\user28_fluorescent_labels.csv data\\user28_fluorescent.aedat4\n",
      "data\\user28_fluorescent_led_labels.csv data\\user28_fluorescent_led.aedat4\n",
      "data\\user28_lab_labels.csv data\\user28_lab.aedat4\n",
      "data\\user28_led_labels.csv data\\user28_led.aedat4\n",
      "data\\user28_natural_labels.csv data\\user28_natural.aedat4\n",
      "data\\user29_fluorescent_labels.csv data\\user29_fluorescent.aedat4\n",
      "data\\user29_fluorescent_led_labels.csv data\\user29_fluorescent_led.aedat4\n",
      "data\\user29_lab_labels.csv data\\user29_lab.aedat4\n",
      "data\\user29_led_labels.csv data\\user29_led.aedat4\n",
      "data\\user29_natural_labels.csv data\\user29_natural.aedat4\n"
     ]
    }
   ],
   "source": [
    "X_test = []\n",
    "Y_test = []\n",
    "\n",
    "split = 98 \n",
    "\n",
    "csv = sorted(glob.glob(\"data/*.csv\"))\n",
    "aedat4 = sorted(glob.glob(\"data/*.aedat4\"))\n",
    "\n",
    "for i in range(split, len(csv)):\n",
    "    verify(csv[i], aedat4[i])\n",
    "    print(csv[i], aedat4[i])\n",
    "    \n",
    "    labels = loadLabel(csv[i])\n",
    "    process(X_test, Y_test, aedat4[i], labels)"
   ]
  },
  {
   "cell_type": "code",
   "execution_count": 7,
   "metadata": {},
   "outputs": [],
   "source": [
    "pipeline = load('pipeline.joblib')"
   ]
  },
  {
   "cell_type": "code",
   "execution_count": 8,
   "metadata": {},
   "outputs": [
    {
     "data": {
      "text/plain": [
       "0.8062078712763644"
      ]
     },
     "execution_count": 8,
     "metadata": {},
     "output_type": "execute_result"
    }
   ],
   "source": [
    "pipeline.score(X_test, Y_test)"
   ]
  }
 ],
 "metadata": {
  "kernelspec": {
   "display_name": "Python 3",
   "language": "python",
   "name": "python3"
  },
  "language_info": {
   "codemirror_mode": {
    "name": "ipython",
    "version": 3
   },
   "file_extension": ".py",
   "mimetype": "text/x-python",
   "name": "python",
   "nbconvert_exporter": "python",
   "pygments_lexer": "ipython3",
   "version": "3.8.5"
  }
 },
 "nbformat": 4,
 "nbformat_minor": 4
}
