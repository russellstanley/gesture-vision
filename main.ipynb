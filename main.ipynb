{
 "cells": [
  {
   "cell_type": "code",
   "execution_count": 1,
   "id": "34a8946f-aac6-4d6d-9a88-e998bc8dfee8",
   "metadata": {},
   "outputs": [],
   "source": [
    "import numpy as np\n",
    "import cv2\n",
    "import time\n",
    "import glob\n",
    "\n",
    "from sklearn import svm\n",
    "from sklearn.preprocessing import StandardScaler\n",
    "from sklearn.pipeline import make_pipeline\n",
    "\n",
    "import dv\n",
    "\n",
    "from joblib import dump, load"
   ]
  },
  {
   "cell_type": "code",
   "execution_count": 2,
   "id": "285e72ff-be19-460c-8ca9-64abc0c5b901",
   "metadata": {},
   "outputs": [],
   "source": [
    "def loadLabel(path):\n",
    "    labels = np.genfromtxt(path, delimiter=',', skip_header=1, dtype=int)\n",
    "\n",
    "    start_time = labels[0][1]\n",
    "    for i in labels:\n",
    "        i[1] = i[1]-start_time\n",
    "        i[2] = i[2]-start_time\n",
    "        \n",
    "    return labels"
   ]
  },
  {
   "cell_type": "code",
   "execution_count": 3,
   "id": "2a4fa4a9-1d81-4c4e-87aa-ead1a9ab4758",
   "metadata": {},
   "outputs": [],
   "source": [
    "# Return the start time of the given class index.\n",
    "def start(index, labels):\n",
    "    return labels[index][1]\n",
    " \n",
    "# Return the end time of the given class index.\n",
    "def end(index, labels):\n",
    "    return labels[index][2]\n",
    "\n",
    "def classID(index, labels):\n",
    "    return labels[index][0]-1\n",
    "\n",
    "# Return the class of the current frame. If no gesture then return -1.\n",
    "def setGesture(currentTime, labels):\n",
    "    for i in range(len(labels)-1):\n",
    "        if (currentTime >= start(i, labels) and currentTime <= end(i, labels)):\n",
    "            return classID(i, labels)\n",
    "    return -1"
   ]
  },
  {
   "cell_type": "code",
   "execution_count": 4,
   "id": "5ed7f4b4-9f6a-4435-91fa-9959873a90a1",
   "metadata": {},
   "outputs": [],
   "source": [
    "def process(X, Y, path, labels):\n",
    "    offset = 0\n",
    "    \n",
    "    with dv.AedatFile(path) as f: \n",
    "        for frame in f['frames']:    \n",
    "            # Set the offset on the first frame.\n",
    "            if (offset == 0):\n",
    "                offset = frame.timestamp\n",
    "\n",
    "            gesture = setGesture((frame.timestamp - offset), labels)\n",
    "            image = frame.image\n",
    "\n",
    "            # font\n",
    "            font = cv2.FONT_HERSHEY_SIMPLEX\n",
    "\n",
    "            # org\n",
    "            org = (5, 30)\n",
    "\n",
    "            # fontScale\n",
    "            fontScale = 1\n",
    "\n",
    "            # Blue color in BGR\n",
    "            color = (255, 0, 0)\n",
    "\n",
    "            # Line thickness of 2 px\n",
    "            thickness = 2\n",
    "            image = cv2.putText(image, str(gesture), org, font, \n",
    "                       fontScale, color, thickness, cv2.LINE_AA)\n",
    "\n",
    "            # cv2.imshow('out',image)\n",
    "            # cv2.waitKey(1)\n",
    "\n",
    "            if (gesture == -1):\n",
    "                continue\n",
    "            else:\n",
    "                Y.append(gesture)\n",
    "\n",
    "                # TODO: Scale the data.\n",
    "                matrix = frame.image.flatten()\n",
    "                X.append(matrix)"
   ]
  },
  {
   "cell_type": "code",
   "execution_count": 5,
   "id": "01a30b81-3a3c-4310-86e1-d928fe1fb8be",
   "metadata": {},
   "outputs": [],
   "source": [
    "def verify(csv, file):\n",
    "    \n",
    "    csv = csv.split(\".\")\n",
    "    file = file.split(\".\")\n",
    "    \n",
    "    if (csv[0] != file[0]):\n",
    "        print(\"mismatch: (%s, %s)\" % (csv[0], file[0]))"
   ]
  },
  {
   "cell_type": "code",
   "execution_count": 6,
   "id": "53889b66-211a-4c95-af5e-66d4660039f8",
   "metadata": {},
   "outputs": [
    {
     "name": "stdout",
     "output_type": "stream",
     "text": [
      "mismatch: (data/user02_fluorescent_led_labels, data/user02)\n",
      "mismatch: (data/user04_fluorescent_led_labels, data/user04)\n",
      "mismatch: (data/user05_fluorescent_led_labels, data/user05)\n"
     ]
    }
   ],
   "source": [
    "X_train = []\n",
    "Y_train = []\n",
    "\n",
    "X_test = []\n",
    "Y_test = []\n",
    "\n",
    "csv = sorted(glob.glob(\"data/*.csv\"))\n",
    "aedat4 = sorted(glob.glob(\"data/*.aedat4\"))\n",
    "\n",
    "for i in range(len(csv) - 1):\n",
    "    verify(csv[i], aedat4[i])\n",
    "    labels = loadLabel(csv[i])\n",
    "    process(X_train, Y_train, aedat4[i], labels)\n",
    "    \n",
    "for i in range(len(csv) - 1, len(csv)):\n",
    "    verify(csv[i], aedat4[i])\n",
    "    labels = loadLabel(csv[i])\n",
    "    process(X_test, Y_test, aedat4[i], labels)"
   ]
  },
  {
   "cell_type": "code",
   "execution_count": 7,
   "id": "66a0968c-ad18-427a-bb21-bb1d417c035f",
   "metadata": {},
   "outputs": [
    {
     "name": "stdout",
     "output_type": "stream",
     "text": [
      "1297\n",
      "1297\n",
      "788\n",
      "788\n"
     ]
    }
   ],
   "source": [
    "print(len(X_train))\n",
    "print(len(Y_train))\n",
    "\n",
    "print(len(X_test))\n",
    "print(len(Y_test))"
   ]
  },
  {
   "cell_type": "code",
   "execution_count": 8,
   "id": "50191521-61e1-4d61-9723-fc51ce5879d9",
   "metadata": {},
   "outputs": [
    {
     "data": {
      "text/plain": [
       "Pipeline(steps=[('standardscaler', StandardScaler()), ('svc', SVC())])"
      ]
     },
     "execution_count": 8,
     "metadata": {},
     "output_type": "execute_result"
    }
   ],
   "source": [
    "pipeline = make_pipeline(StandardScaler(), svm.SVC(kernel=\"rbf\"))\n",
    "\n",
    "pipeline.fit(X_train, Y_train)"
   ]
  },
  {
   "cell_type": "code",
   "execution_count": 9,
   "id": "4adbe297-89a0-4c16-9142-a006e70f1860",
   "metadata": {},
   "outputs": [
    {
     "data": {
      "text/plain": [
       "0.20050761421319796"
      ]
     },
     "execution_count": 9,
     "metadata": {},
     "output_type": "execute_result"
    }
   ],
   "source": [
    "pipeline.score(X_test, Y_test)"
   ]
  },
  {
   "cell_type": "code",
   "execution_count": 10,
   "id": "e9903984-db83-4c23-a3cf-4997f1f845a7",
   "metadata": {},
   "outputs": [
    {
     "data": {
      "text/plain": [
       "['pipeline.joblib']"
      ]
     },
     "execution_count": 10,
     "metadata": {},
     "output_type": "execute_result"
    }
   ],
   "source": [
    "# Save the model\n",
    "dump(pipeline, 'pipeline.joblib') "
   ]
  },
  {
   "cell_type": "code",
   "execution_count": 11,
   "id": "840d8331-6bb9-4447-b196-3feb4f6dfa9c",
   "metadata": {},
   "outputs": [
    {
     "data": {
      "text/plain": [
       "0.20050761421319796"
      ]
     },
     "execution_count": 11,
     "metadata": {},
     "output_type": "execute_result"
    }
   ],
   "source": [
    "pipeline2 = load('pipeline.joblib') \n",
    "\n",
    "pipeline.score(X_test, Y_test)"
   ]
  }
 ],
 "metadata": {
  "kernelspec": {
   "display_name": "Python 3",
   "language": "python",
   "name": "python3"
  },
  "language_info": {
   "codemirror_mode": {
    "name": "ipython",
    "version": 3
   },
   "file_extension": ".py",
   "mimetype": "text/x-python",
   "name": "python",
   "nbconvert_exporter": "python",
   "pygments_lexer": "ipython3",
   "version": "3.8.8"
  }
 },
 "nbformat": 4,
 "nbformat_minor": 5
}
