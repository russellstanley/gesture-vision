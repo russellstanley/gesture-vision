{
 "cells": [
  {
   "cell_type": "code",
   "execution_count": 11,
   "id": "34a8946f-aac6-4d6d-9a88-e998bc8dfee8",
   "metadata": {},
   "outputs": [],
   "source": [
    "import numpy as np\n",
    "from sklearn import svm\n",
    "import dv\n",
    "import cv2\n",
    "import time"
   ]
  },
  {
   "cell_type": "code",
   "execution_count": 12,
   "id": "285e72ff-be19-460c-8ca9-64abc0c5b901",
   "metadata": {},
   "outputs": [
    {
     "name": "stdout",
     "output_type": "stream",
     "text": [
      "[[        1  42148585  48082899]\n",
      " [        2  48613803  55081191]\n",
      " [        3  55708624  62594300]\n",
      " [        4  63720462  71458804]\n",
      " [        5  71684037  78368585]\n",
      " [        6  79197146  85214069]\n",
      " [        7  85535829  91504488]\n",
      " [        8  92067569  98148844]\n",
      " [        8  98486692 104598585]\n",
      " [        9 105163224 110318585]\n",
      " [       10 111180147 117518830]\n",
      " [       11 117937119 121338585]]\n"
     ]
    }
   ],
   "source": [
    "labels = np.genfromtxt('user03_fluorescent_led_labels.csv', delimiter=',', skip_header=1, dtype=int)\n",
    "print(labels)"
   ]
  },
  {
   "cell_type": "code",
   "execution_count": 13,
   "id": "2a4fa4a9-1d81-4c4e-87aa-ead1a9ab4758",
   "metadata": {},
   "outputs": [],
   "source": [
    "# Return the start time of the given class index.\n",
    "def start(classIndex):\n",
    "    return labels[classIndex][1]\n",
    " \n",
    "# Return the end time of the given class index.\n",
    "def end(classIndex):\n",
    "    return labels[classIndex][2]\n",
    "\n",
    "# Return the class of the current frame. If no gesture then return -1.\n",
    "def setGesture(currentTime):\n",
    "    for i in range(10):\n",
    "        if (currentTime >= start(i) and currentTime <= end(i)):\n",
    "            return i\n",
    "    return -1"
   ]
  },
  {
   "cell_type": "code",
   "execution_count": 14,
   "id": "042d1b64-fbb7-4cbf-b43f-7e7f1cad4b8e",
   "metadata": {},
   "outputs": [
    {
     "name": "stdout",
     "output_type": "stream",
     "text": [
      "Pass\n",
      "Pass\n",
      "Pass\n",
      "Pass\n",
      "Pass\n",
      "Pass\n",
      "Pass\n",
      "Pass\n"
     ]
    }
   ],
   "source": [
    "# Test the setGesture function\n",
    "\n",
    "tests = [[42148585, 0], # Gesture 1 has just started \n",
    "        [42148584, -1], # Gesture 1 is about to started\n",
    "        [48082899, 0],  # Gesture 1 is about to end\n",
    "        [48082900, -1], # Gesture 1 has just ended\n",
    "         \n",
    "        [48613803, 1],  # Gesture 2 just started\n",
    "        [55708624, 2],\n",
    "        [63720462, 3],\n",
    "        [121338586, -1],]\n",
    "\n",
    "for i in tests:\n",
    "    if (setGesture(i[0]) == i[1]):\n",
    "        print(\"Pass\")\n",
    "    else:\n",
    "        print(setGesture(i[0]), i[1])"
   ]
  },
  {
   "cell_type": "code",
   "execution_count": 15,
   "id": "f611233d-7441-4014-ba99-718b829dbb18",
   "metadata": {},
   "outputs": [],
   "source": [
    "offset = 0\n",
    "\n",
    "with dv.AedatFile(\"dvSave-2022_10_10_21_31_36.aedat4\") as f:    \n",
    "    for frame in f['frames']:\n",
    "        pass\n",
    "        #cv2.imshow('out' + str(setGesture((frame.timestamp))), frame.image)\n",
    "        #cv2.waitKey(1)\n",
    "\n",
    "cv2.destroyAllWindows()"
   ]
  },
  {
   "cell_type": "code",
   "execution_count": 7,
   "id": "5ed7f4b4-9f6a-4435-91fa-9959873a90a1",
   "metadata": {},
   "outputs": [],
   "source": [
    "X = []\n",
    "Y = []\n",
    "offset = 0\n",
    "timestamp = 0\n",
    "\n",
    "with dv.AedatFile(\"dvSave-2022_10_10_21_31_36.aedat4\") as f:\n",
    "        \n",
    "    for frame in f['frames']:    \n",
    "        # Set the offset on the first frame.\n",
    "        if (offset == 0):\n",
    "            offset = frame.timestamp\n",
    "\n",
    "        gesture = setGesture((frame.timestamp - offset))\n",
    "        \n",
    "        if (gesture == -1):\n",
    "            continue\n",
    "        else:\n",
    "            Y.append(gesture)\n",
    "\n",
    "            matrix = frame.image.flatten()\n",
    "            X.append(matrix)"
   ]
  },
  {
   "cell_type": "code",
   "execution_count": 8,
   "id": "66a0968c-ad18-427a-bb21-bb1d417c035f",
   "metadata": {},
   "outputs": [
    {
     "name": "stdout",
     "output_type": "stream",
     "text": [
      "1058\n",
      "1058\n"
     ]
    }
   ],
   "source": [
    "print(len(X))\n",
    "print(len(Y))"
   ]
  },
  {
   "cell_type": "code",
   "execution_count": 9,
   "id": "50191521-61e1-4d61-9723-fc51ce5879d9",
   "metadata": {},
   "outputs": [
    {
     "data": {
      "text/plain": [
       "SVC()"
      ]
     },
     "execution_count": 9,
     "metadata": {},
     "output_type": "execute_result"
    }
   ],
   "source": [
    "clf = svm.SVC()\n",
    "clf.fit(X, Y)"
   ]
  },
  {
   "cell_type": "code",
   "execution_count": 10,
   "id": "4adbe297-89a0-4c16-9142-a006e70f1860",
   "metadata": {},
   "outputs": [
    {
     "data": {
      "text/plain": [
       "array([4])"
      ]
     },
     "execution_count": 10,
     "metadata": {},
     "output_type": "execute_result"
    }
   ],
   "source": [
    "clf.predict([X[900]])"
   ]
  }
 ],
 "metadata": {
  "kernelspec": {
   "display_name": "Python 3",
   "language": "python",
   "name": "python3"
  },
  "language_info": {
   "codemirror_mode": {
    "name": "ipython",
    "version": 3
   },
   "file_extension": ".py",
   "mimetype": "text/x-python",
   "name": "python",
   "nbconvert_exporter": "python",
   "pygments_lexer": "ipython3",
   "version": "3.8.8"
  }
 },
 "nbformat": 4,
 "nbformat_minor": 5
}
