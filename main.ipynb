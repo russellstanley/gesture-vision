{
 "cells": [
  {
   "cell_type": "code",
   "execution_count": 1,
   "metadata": {},
   "outputs": [
    {
     "name": "stdout",
     "output_type": "stream",
     "text": [
      "Requirement already satisfied: dv in c:\\users\\russe\\anaconda3\\lib\\site-packages (1.0.10)\n",
      "Requirement already satisfied: numpy in c:\\users\\russe\\anaconda3\\lib\\site-packages (from dv) (1.19.2)\n",
      "Requirement already satisfied: flatbuffers in c:\\users\\russe\\anaconda3\\lib\\site-packages (from dv) (1.12)\n",
      "Requirement already satisfied: lz4 in c:\\users\\russe\\anaconda3\\lib\\site-packages (from dv) (4.0.2)\n",
      "Requirement already satisfied: zstd in c:\\users\\russe\\anaconda3\\lib\\site-packages (from dv) (1.5.2.6)\n"
     ]
    }
   ],
   "source": [
    "import numpy as np\n",
    "import cv2\n",
    "import time\n",
    "import glob\n",
    "\n",
    "from sklearn import svm\n",
    "from sklearn.preprocessing import StandardScaler\n",
    "from sklearn.pipeline import make_pipeline\n",
    "\n",
    "!pip install dv\n",
    "import dv\n",
    "\n",
    "from joblib import dump, load"
   ]
  },
  {
   "cell_type": "code",
   "execution_count": 2,
   "metadata": {},
   "outputs": [],
   "source": [
    "def loadLabel(path):\n",
    "    labels = np.genfromtxt(path, delimiter=',', skip_header=1, dtype=int)\n",
    "\n",
    "    start_time = labels[0][1]\n",
    "    for i in labels:\n",
    "        i[1] = i[1]-start_time\n",
    "        i[2] = i[2]-start_time\n",
    "        \n",
    "    return labels"
   ]
  },
  {
   "cell_type": "code",
   "execution_count": 3,
   "metadata": {},
   "outputs": [],
   "source": [
    "# Return the start time of the given class index.\n",
    "def start(index, labels):\n",
    "    return labels[index][1]\n",
    " \n",
    "# Return the end time of the given class index.\n",
    "def end(index, labels):\n",
    "    return labels[index][2]\n",
    "\n",
    "def classID(index, labels):\n",
    "    return labels[index][0]-1\n",
    "\n",
    "# Return the class of the current frame. If no gesture then return -1.\n",
    "def setGesture(currentTime, labels):\n",
    "    for i in range(len(labels)-1):\n",
    "        if (currentTime >= start(i, labels) and currentTime <= end(i, labels)):\n",
    "            return classID(i, labels)\n",
    "    return -1"
   ]
  },
  {
   "cell_type": "code",
   "execution_count": 4,
   "metadata": {},
   "outputs": [],
   "source": [
    "def process(X, Y, path, labels):\n",
    "    offset = 0\n",
    "    \n",
    "    with dv.AedatFile(path) as f: \n",
    "        for frame in f['frames']:    \n",
    "            # Set the offset on the first frame.\n",
    "            if (offset == 0):\n",
    "                offset = frame.timestamp\n",
    "\n",
    "            gesture = setGesture((frame.timestamp - offset), labels)\n",
    "            image = frame.image\n",
    "\n",
    "            # font\n",
    "            font = cv2.FONT_HERSHEY_SIMPLEX\n",
    "\n",
    "            # org\n",
    "            org = (5, 30)\n",
    "\n",
    "            # fontScale\n",
    "            fontScale = 1\n",
    "\n",
    "            # Blue color in BGR\n",
    "            color = (255, 0, 0)\n",
    "\n",
    "            # Line thickness of 2 px\n",
    "            thickness = 2\n",
    "            image = cv2.putText(image, str(gesture), org, font, \n",
    "                       fontScale, color, thickness, cv2.LINE_AA)\n",
    "            \n",
    "            # cv2.imshow('out',image)\n",
    "            # cv2.waitKey(1)\n",
    "\n",
    "            if (gesture == -1):\n",
    "                continue\n",
    "            else:\n",
    "                Y.append(gesture)\n",
    "\n",
    "                # TODO: Scale the data.\n",
    "                matrix = frame.image.flatten()\n",
    "                X.append(matrix)"
   ]
  },
  {
   "cell_type": "code",
   "execution_count": 5,
   "metadata": {},
   "outputs": [],
   "source": [
    "def verify(csv, file):\n",
    "    \n",
    "    csv = csv.split(\"_labels\")\n",
    "    file = file.split(\".\")\n",
    "    \n",
    "    if (csv[0] != file[0]):\n",
    "        print(\"mismatch: (%s, %s)\" % (csv[0], file[0]))"
   ]
  },
  {
   "cell_type": "code",
   "execution_count": 6,
   "metadata": {},
   "outputs": [
    {
     "name": "stdout",
     "output_type": "stream",
     "text": [
      "data\\user01_fluorescent_labels.csv data\\user01_fluorescent.aedat4\n",
      "data\\user01_fluorescent_led_labels.csv data\\user01_fluorescent_led.aedat4\n",
      "data\\user01_lab_labels.csv data\\user01_lab.aedat4\n",
      "data\\user01_led_labels.csv data\\user01_led.aedat4\n",
      "data\\user01_natural_labels.csv data\\user01_natural.aedat4\n",
      "data\\user02_fluorescent_labels.csv data\\user02_fluorescent.aedat4\n",
      "data\\user02_fluorescent_led_labels.csv data\\user02_fluorescent_led.aedat4\n",
      "data\\user02_lab_labels.csv data\\user02_lab.aedat4\n",
      "data\\user02_led_labels.csv data\\user02_led.aedat4\n",
      "data\\user02_natural_labels.csv data\\user02_natural.aedat4\n",
      "data\\user03_fluorescent_labels.csv data\\user03_fluorescent.aedat4\n",
      "data\\user03_fluorescent_led_labels.csv data\\user03_fluorescent_led.aedat4\n",
      "data\\user03_led_labels.csv data\\user03_led.aedat4\n",
      "data\\user03_natural_labels.csv data\\user03_natural.aedat4\n",
      "data\\user04_fluorescent_labels.csv data\\user04_fluorescent.aedat4\n",
      "data\\user04_fluorescent_led_labels.csv data\\user04_fluorescent_led.aedat4\n",
      "data\\user04_led_labels.csv data\\user04_led.aedat4\n",
      "data\\user04_natural_labels.csv data\\user04_natural.aedat4\n",
      "data\\user05_fluorescent_labels.csv data\\user05_fluorescent.aedat4\n",
      "data\\user05_fluorescent_led_labels.csv data\\user05_fluorescent_led.aedat4\n",
      "data\\user05_lab_labels.csv data\\user05_lab.aedat4\n",
      "data\\user05_led_labels.csv data\\user05_led.aedat4\n",
      "data\\user05_natural_labels.csv data\\user05_natural.aedat4\n",
      "data\\user06_fluorescent_labels.csv data\\user06_fluorescent.aedat4\n",
      "data\\user06_fluorescent_led_labels.csv data\\user06_fluorescent_led.aedat4\n",
      "data\\user06_lab_labels.csv data\\user06_lab.aedat4\n",
      "data\\user06_led_labels.csv data\\user06_led.aedat4\n",
      "data\\user06_natural_labels.csv data\\user06_natural.aedat4\n",
      "data\\user07_fluorescent_labels.csv data\\user07_fluorescent.aedat4\n",
      "data\\user07_fluorescent_led_labels.csv data\\user07_fluorescent_led.aedat4\n",
      "data\\user07_lab_labels.csv data\\user07_lab.aedat4\n",
      "data\\user07_led_labels.csv data\\user07_led.aedat4\n",
      "data\\user08_fluorescent_labels.csv data\\user08_fluorescent.aedat4\n",
      "data\\user08_fluorescent_led_labels.csv data\\user08_fluorescent_led.aedat4\n",
      "data\\user08_lab_labels.csv data\\user08_lab.aedat4\n",
      "data\\user08_led_labels.csv data\\user08_led.aedat4\n",
      "data\\user09_fluorescent_labels.csv data\\user09_fluorescent.aedat4\n",
      "data\\user09_fluorescent_led_labels.csv data\\user09_fluorescent_led.aedat4\n",
      "data\\user09_lab_labels.csv data\\user09_lab.aedat4\n",
      "data\\user09_led_labels.csv data\\user09_led.aedat4\n",
      "data\\user09_natural_labels.csv data\\user09_natural.aedat4\n",
      "data\\user10_fluorescent_labels.csv data\\user10_fluorescent.aedat4\n",
      "data\\user10_fluorescent_led_labels.csv data\\user10_fluorescent_led.aedat4\n",
      "data\\user10_lab_labels.csv data\\user10_lab.aedat4\n",
      "data\\user10_led_labels.csv data\\user10_led.aedat4\n",
      "\n",
      "data\\user11_fluorescent_labels.csv data\\user11_fluorescent.aedat4\n",
      "data\\user11_fluorescent_led_labels.csv data\\user11_fluorescent_led.aedat4\n",
      "data\\user11_natural_labels.csv data\\user11_natural.aedat4\n",
      "data\\user12_fluorescent_led_labels.csv data\\user12_fluorescent_led.aedat4\n",
      "data\\user12_led_labels.csv data\\user12_led.aedat4\n"
     ]
    }
   ],
   "source": [
    "X_train = []\n",
    "Y_train = []\n",
    "\n",
    "X_test = []\n",
    "Y_test = []\n",
    "\n",
    "split = 45\n",
    "\n",
    "csv = sorted(glob.glob(\"data/*.csv\"))\n",
    "aedat4 = sorted(glob.glob(\"data/*.aedat4\"))\n",
    "\n",
    "for i in range(split):\n",
    "    verify(csv[i], aedat4[i])\n",
    "    print(csv[i], aedat4[i])\n",
    "    \n",
    "    labels = loadLabel(csv[i])\n",
    "    process(X_train, Y_train, aedat4[i], labels)\n",
    "\n",
    "print()\n",
    "for i in range(split, split+5):\n",
    "    verify(csv[i], aedat4[i])\n",
    "    print(csv[i], aedat4[i])\n",
    "    \n",
    "    labels = loadLabel(csv[i])\n",
    "    process(X_test, Y_test, aedat4[i], labels)"
   ]
  },
  {
   "cell_type": "code",
   "execution_count": 7,
   "metadata": {},
   "outputs": [
    {
     "name": "stdout",
     "output_type": "stream",
     "text": [
      "32751\n",
      "32751\n",
      "3661\n",
      "3661\n"
     ]
    }
   ],
   "source": [
    "print(len(X_train))\n",
    "print(len(Y_train))\n",
    "\n",
    "print(len(X_test))\n",
    "print(len(Y_test))"
   ]
  },
  {
   "cell_type": "code",
   "execution_count": 8,
   "metadata": {},
   "outputs": [
    {
     "data": {
      "text/plain": [
       "Pipeline(steps=[('standardscaler', StandardScaler()), ('svc', SVC())])"
      ]
     },
     "execution_count": 8,
     "metadata": {},
     "output_type": "execute_result"
    }
   ],
   "source": [
    "pipeline = make_pipeline(StandardScaler(), svm.SVC(kernel=\"rbf\"))\n",
    "\n",
    "pipeline.fit(X_train, Y_train)"
   ]
  },
  {
   "cell_type": "code",
   "execution_count": 9,
   "metadata": {},
   "outputs": [
    {
     "data": {
      "text/plain": [
       "0.6200491668942911"
      ]
     },
     "execution_count": 9,
     "metadata": {},
     "output_type": "execute_result"
    }
   ],
   "source": [
    "pipeline.score(X_test, Y_test)"
   ]
  },
  {
   "cell_type": "code",
   "execution_count": 10,
   "metadata": {},
   "outputs": [
    {
     "data": {
      "text/plain": [
       "['pipeline.joblib']"
      ]
     },
     "execution_count": 10,
     "metadata": {},
     "output_type": "execute_result"
    }
   ],
   "source": [
    "# Save the model\n",
    "dump(pipeline, 'pipeline.joblib') "
   ]
  }
 ],
 "metadata": {
  "kernelspec": {
   "display_name": "Python 3",
   "language": "python",
   "name": "python3"
  },
  "language_info": {
   "codemirror_mode": {
    "name": "ipython",
    "version": 3
   },
   "file_extension": ".py",
   "mimetype": "text/x-python",
   "name": "python",
   "nbconvert_exporter": "python",
   "pygments_lexer": "ipython3",
   "version": "3.8.5"
  }
 },
 "nbformat": 4,
 "nbformat_minor": 5
}
