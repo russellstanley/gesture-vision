{
 "cells": [
  {
   "cell_type": "code",
   "execution_count": 1,
   "id": "34a8946f-aac6-4d6d-9a88-e998bc8dfee8",
   "metadata": {},
   "outputs": [],
   "source": [
    "import numpy as np\n",
    "from sklearn import svm\n",
    "import dv\n",
    "import cv2\n",
    "import time"
   ]
  },
  {
   "cell_type": "code",
   "execution_count": 2,
   "id": "285e72ff-be19-460c-8ca9-64abc0c5b901",
   "metadata": {},
   "outputs": [
    {
     "name": "stdout",
     "output_type": "stream",
     "text": [
      "[[       1        0  5934314]\n",
      " [       2  6465218 12932606]\n",
      " [       3 13560039 20445715]\n",
      " [       4 21571877 29310219]\n",
      " [       5 29535452 36220000]\n",
      " [       6 37048561 43065484]\n",
      " [       7 43387244 49355903]\n",
      " [       8 49918984 56000259]\n",
      " [       8 56338107 62450000]\n",
      " [       9 63014639 68170000]\n",
      " [      10 69031562 75370245]\n",
      " [      11 75788534 79190000]]\n"
     ]
    }
   ],
   "source": [
    "labels = np.genfromtxt('user03_fluorescent_led_labels.csv', delimiter=',', skip_header=1, dtype=int)\n",
    "\n",
    "start_time = labels[0][1]\n",
    "for i in labels:\n",
    "    i[1] = i[1]-start_time\n",
    "    i[2] = i[2]-start_time\n",
    "print(labels)"
   ]
  },
  {
   "cell_type": "code",
   "execution_count": 3,
   "id": "2a4fa4a9-1d81-4c4e-87aa-ead1a9ab4758",
   "metadata": {},
   "outputs": [],
   "source": [
    "# Return the start time of the given class index.\n",
    "def start(index):\n",
    "    return labels[index][1]\n",
    " \n",
    "# Return the end time of the given class index.\n",
    "def end(index):\n",
    "    return labels[index][2]\n",
    "\n",
    "def classID(index):\n",
    "    return labels[index][0]\n",
    "\n",
    "# Return the class of the current frame. If no gesture then return -1.\n",
    "def setGesture(currentTime):\n",
    "    for i in range(len(labels)-1):\n",
    "        if (currentTime >= start(i) and currentTime <= end(i)):\n",
    "            return classID(i)\n",
    "    return -1"
   ]
  },
  {
   "cell_type": "code",
   "execution_count": 4,
   "id": "042d1b64-fbb7-4cbf-b43f-7e7f1cad4b8e",
   "metadata": {},
   "outputs": [
    {
     "name": "stdout",
     "output_type": "stream",
     "text": [
      "6 0\n",
      "6 -1\n",
      "7 0\n",
      "7 -1\n",
      "7 1\n",
      "8 2\n",
      "9 3\n",
      "Pass\n"
     ]
    }
   ],
   "source": [
    "# Test the setGesture function\n",
    "\n",
    "tests = [[42148585, 0], # Gesture 1 has just started \n",
    "        [42148584, -1], # Gesture 1 is about to started\n",
    "        [48082899, 0],  # Gesture 1 is about to end\n",
    "        [48082900, -1], # Gesture 1 has just ended\n",
    "         \n",
    "        [48613803, 1],  # Gesture 2 just started\n",
    "        [55708624, 2],\n",
    "        [63720462, 3],\n",
    "        [121338586, -1],]\n",
    "\n",
    "for i in tests:\n",
    "    if (setGesture(i[0]) == i[1]):\n",
    "        print(\"Pass\")\n",
    "    else:\n",
    "        print(setGesture(i[0]), i[1])"
   ]
  },
  {
   "cell_type": "raw",
   "id": "035d2462-d168-4b69-8e91-61f4bd8ea798",
   "metadata": {},
   "source": [
    "start = None\n",
    "finish = None\n",
    "\n",
    "with dv.AedatFile(\"dvSave-2022_10_11_12_15_17.aedat4\") as f: \n",
    "    for frame in f['frames']:    \n",
    "        if start == None:\n",
    "            start = frame.timestamp\n",
    "            \n",
    "        finish = frame.timestamp\n",
    "        \n",
    "print(start, finish)\n",
    "print(finish-start)"
   ]
  },
  {
   "cell_type": "code",
   "execution_count": 5,
   "id": "5ed7f4b4-9f6a-4435-91fa-9959873a90a1",
   "metadata": {},
   "outputs": [],
   "source": [
    "X = []\n",
    "Y = []\n",
    "offset = 0\n",
    "timestamp = 0\n",
    "\n",
    "with dv.AedatFile(\"dvSave-2022_10_10_21_31_36.aedat4\") as f: \n",
    "    for frame in f['frames']:    \n",
    "        # Set the offset on the first frame.\n",
    "        if (offset == 0):\n",
    "            offset = frame.timestamp\n",
    "\n",
    "        gesture = setGesture((frame.timestamp - offset))\n",
    "        image = frame.image\n",
    "        \n",
    "        # font\n",
    "        font = cv2.FONT_HERSHEY_SIMPLEX\n",
    "        \n",
    "        # org\n",
    "        org = (5, 30)\n",
    "\n",
    "        # fontScale\n",
    "        fontScale = 1\n",
    "\n",
    "        # Blue color in BGR\n",
    "        color = (255, 0, 0)\n",
    "\n",
    "        # Line thickness of 2 px\n",
    "        thickness = 2\n",
    "        image = cv2.putText(image, str(gesture), org, font, \n",
    "                   fontScale, color, thickness, cv2.LINE_AA)\n",
    "        \n",
    "        cv2.imshow('out',image)\n",
    "        cv2.waitKey(1)\n",
    "        \n",
    "        if (gesture == -1):\n",
    "            continue\n",
    "        else:\n",
    "            Y.append(gesture)\n",
    "\n",
    "            matrix = frame.image.flatten()\n",
    "            X.append(matrix)"
   ]
  },
  {
   "cell_type": "code",
   "execution_count": 6,
   "id": "66a0968c-ad18-427a-bb21-bb1d417c035f",
   "metadata": {},
   "outputs": [
    {
     "name": "stdout",
     "output_type": "stream",
     "text": [
      "2103\n",
      "2103\n"
     ]
    }
   ],
   "source": [
    "print(len(X))\n",
    "print(len(Y))"
   ]
  },
  {
   "cell_type": "code",
   "execution_count": null,
   "id": "50191521-61e1-4d61-9723-fc51ce5879d9",
   "metadata": {},
   "outputs": [],
   "source": [
    "clf = svm.SVC()\n",
    "clf.fit(X, Y)"
   ]
  },
  {
   "cell_type": "code",
   "execution_count": null,
   "id": "4adbe297-89a0-4c16-9142-a006e70f1860",
   "metadata": {},
   "outputs": [],
   "source": [
    "clf.predict([X[1780]])"
   ]
  }
 ],
 "metadata": {
  "kernelspec": {
   "display_name": "Python 3",
   "language": "python",
   "name": "python3"
  },
  "language_info": {
   "codemirror_mode": {
    "name": "ipython",
    "version": 3
   },
   "file_extension": ".py",
   "mimetype": "text/x-python",
   "name": "python",
   "nbconvert_exporter": "python",
   "pygments_lexer": "ipython3",
   "version": "3.8.8"
  }
 },
 "nbformat": 4,
 "nbformat_minor": 5
}
